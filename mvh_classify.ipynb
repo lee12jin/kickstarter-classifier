{
 "cells": [
  {
   "cell_type": "code",
   "execution_count": 1,
   "metadata": {},
   "outputs": [],
   "source": [
    "# Import Libraries\n",
    "import matplotlib.pyplot as plt\n",
    "import matplotlib.patches as mpatches\n",
    "import numpy as np\n",
    "import pandas as pd\n",
    "import collections\n",
    "import operator\n",
    "\n",
    "from datetime import datetime\n",
    "from sklearn.metrics import accuracy_score\n",
    "from sklearn import preprocessing\n",
    "from sklearn import svm \n",
    "from sklearn import tree\n",
    "from sklearn import neural_network\n",
    "from sklearn import linear_model\n",
    "from sklearn.model_selection import KFold\n",
    "from sklearn.model_selection import train_test_split\n",
    "from sklearn.ensemble import BaggingClassifier\n",
    "\n",
    "\n",
    "\n",
    "# import random\n",
    "# from sklearn.feature_extraction.text import TfidfVectorizer\n",
    "# from sklearn.metrics import accuracy_score\n",
    "# from sklearn.model_selection import train_test_split\n",
    "# from sklearn.model_selection import KFold"
   ]
  },
  {
   "cell_type": "code",
   "execution_count": 2,
   "metadata": {},
   "outputs": [],
   "source": [
    "### Helper Functions\n",
    "\n",
    "def Accuracy(Y_true, Y_prob):\n",
    "    \"\"\"\n",
    "    Prediction accuracy\n",
    "    \"\"\"\n",
    "    #return accuracy_score(Y_true, np.argmax(Y_prob, axis=1))\n",
    "    return accuracy_score(Y_true, Y_prob)\n",
    "\n",
    "def Preprocess(X):\n",
    "    print(\"preprocessing...\")\n",
    "    # Mean subtraction to centre the data\n",
    "    X_mean = np.mean(X, axis = 0)\n",
    "    X = X - X_mean\n",
    "    # Standardization\n",
    "    X /= np.std(X, axis = 0)\n",
    "    return X\n",
    "\n",
    "def Predict(model, X):\n",
    "    p = model.predict(X)\n",
    "    return p\n",
    "\n",
    "def Visualize(X, Y):\n",
    "    plt.scatter(X[:,0], X[:,1],c=Y)\n",
    "    plt.show()\n",
    "       "
   ]
  },
  {
   "cell_type": "code",
   "execution_count": 16,
   "metadata": {},
   "outputs": [],
   "source": [
    "### Load Dataset\n",
    "\n",
    "# Full Data\n",
    "proj = pd.read_csv('ks-projects-201801.csv')\n",
    "x = proj.values\n",
    "# Sample of data\n",
    "xsdf = pd.read_csv('sampledata.csv')\n",
    "xs = xsdf.values"
   ]
  },
  {
   "cell_type": "code",
   "execution_count": 19,
   "metadata": {},
   "outputs": [
    {
     "data": {
      "text/html": [
       "<div>\n",
       "<style scoped>\n",
       "    .dataframe tbody tr th:only-of-type {\n",
       "        vertical-align: middle;\n",
       "    }\n",
       "\n",
       "    .dataframe tbody tr th {\n",
       "        vertical-align: top;\n",
       "    }\n",
       "\n",
       "    .dataframe thead th {\n",
       "        text-align: right;\n",
       "    }\n",
       "</style>\n",
       "<table border=\"1\" class=\"dataframe\">\n",
       "  <thead>\n",
       "    <tr style=\"text-align: right;\">\n",
       "      <th></th>\n",
       "      <th>ID</th>\n",
       "      <th>name</th>\n",
       "      <th>category</th>\n",
       "      <th>main_category</th>\n",
       "      <th>currency</th>\n",
       "      <th>deadline</th>\n",
       "      <th>goal</th>\n",
       "      <th>launched</th>\n",
       "      <th>pledged</th>\n",
       "      <th>state</th>\n",
       "      <th>backers</th>\n",
       "      <th>country</th>\n",
       "      <th>usd pledged</th>\n",
       "      <th>usd_pledged_real</th>\n",
       "      <th>usd_goal_real</th>\n",
       "    </tr>\n",
       "  </thead>\n",
       "  <tbody>\n",
       "    <tr>\n",
       "      <th>0</th>\n",
       "      <td>1000002330</td>\n",
       "      <td>The Songs of Adelaide &amp; Abullah</td>\n",
       "      <td>Poetry</td>\n",
       "      <td>Publishing</td>\n",
       "      <td>GBP</td>\n",
       "      <td>2015-10-09</td>\n",
       "      <td>1000.0</td>\n",
       "      <td>2015-08-11 12:12:28</td>\n",
       "      <td>0.0</td>\n",
       "      <td>failed</td>\n",
       "      <td>0</td>\n",
       "      <td>GB</td>\n",
       "      <td>0.0</td>\n",
       "      <td>0.0</td>\n",
       "      <td>1533.95</td>\n",
       "    </tr>\n",
       "    <tr>\n",
       "      <th>3</th>\n",
       "      <td>1000007540</td>\n",
       "      <td>ToshiCapital Rekordz Needs Help to Complete Album</td>\n",
       "      <td>Music</td>\n",
       "      <td>Music</td>\n",
       "      <td>USD</td>\n",
       "      <td>2012-04-16</td>\n",
       "      <td>5000.0</td>\n",
       "      <td>2012-03-17 03:24:11</td>\n",
       "      <td>1.0</td>\n",
       "      <td>failed</td>\n",
       "      <td>1</td>\n",
       "      <td>US</td>\n",
       "      <td>1.0</td>\n",
       "      <td>1.0</td>\n",
       "      <td>5000.00</td>\n",
       "    </tr>\n",
       "    <tr>\n",
       "      <th>6</th>\n",
       "      <td>1000023410</td>\n",
       "      <td>Support Solar Roasted Coffee &amp; Green Energy!  ...</td>\n",
       "      <td>Food</td>\n",
       "      <td>Food</td>\n",
       "      <td>USD</td>\n",
       "      <td>2014-12-21</td>\n",
       "      <td>1000.0</td>\n",
       "      <td>2014-12-01 18:30:44</td>\n",
       "      <td>1205.0</td>\n",
       "      <td>successful</td>\n",
       "      <td>16</td>\n",
       "      <td>US</td>\n",
       "      <td>1205.0</td>\n",
       "      <td>1205.0</td>\n",
       "      <td>1000.00</td>\n",
       "    </tr>\n",
       "    <tr>\n",
       "      <th>10</th>\n",
       "      <td>100004721</td>\n",
       "      <td>Of Jesus and Madmen</td>\n",
       "      <td>Nonfiction</td>\n",
       "      <td>Publishing</td>\n",
       "      <td>CAD</td>\n",
       "      <td>2013-10-09</td>\n",
       "      <td>2500.0</td>\n",
       "      <td>2013-09-09 18:19:37</td>\n",
       "      <td>0.0</td>\n",
       "      <td>failed</td>\n",
       "      <td>0</td>\n",
       "      <td>CA</td>\n",
       "      <td>0.0</td>\n",
       "      <td>0.0</td>\n",
       "      <td>2406.39</td>\n",
       "    </tr>\n",
       "    <tr>\n",
       "      <th>12</th>\n",
       "      <td>1000055792</td>\n",
       "      <td>The Cottage Market</td>\n",
       "      <td>Crafts</td>\n",
       "      <td>Crafts</td>\n",
       "      <td>USD</td>\n",
       "      <td>2014-10-02</td>\n",
       "      <td>5000.0</td>\n",
       "      <td>2014-09-02 17:11:50</td>\n",
       "      <td>0.0</td>\n",
       "      <td>failed</td>\n",
       "      <td>0</td>\n",
       "      <td>US</td>\n",
       "      <td>0.0</td>\n",
       "      <td>0.0</td>\n",
       "      <td>5000.00</td>\n",
       "    </tr>\n",
       "  </tbody>\n",
       "</table>\n",
       "</div>"
      ],
      "text/plain": [
       "            ID                                               name    category  \\\n",
       "0   1000002330                    The Songs of Adelaide & Abullah      Poetry   \n",
       "3   1000007540  ToshiCapital Rekordz Needs Help to Complete Album       Music   \n",
       "6   1000023410  Support Solar Roasted Coffee & Green Energy!  ...        Food   \n",
       "10   100004721                                Of Jesus and Madmen  Nonfiction   \n",
       "12  1000055792                                 The Cottage Market      Crafts   \n",
       "\n",
       "   main_category currency    deadline    goal             launched  pledged  \\\n",
       "0     Publishing      GBP  2015-10-09  1000.0  2015-08-11 12:12:28      0.0   \n",
       "3          Music      USD  2012-04-16  5000.0  2012-03-17 03:24:11      1.0   \n",
       "6           Food      USD  2014-12-21  1000.0  2014-12-01 18:30:44   1205.0   \n",
       "10    Publishing      CAD  2013-10-09  2500.0  2013-09-09 18:19:37      0.0   \n",
       "12        Crafts      USD  2014-10-02  5000.0  2014-09-02 17:11:50      0.0   \n",
       "\n",
       "         state  backers country  usd pledged  usd_pledged_real  usd_goal_real  \n",
       "0       failed        0      GB          0.0               0.0        1533.95  \n",
       "3       failed        1      US          1.0               1.0        5000.00  \n",
       "6   successful       16      US       1205.0            1205.0        1000.00  \n",
       "10      failed        0      CA          0.0               0.0        2406.39  \n",
       "12      failed        0      US          0.0               0.0        5000.00  "
      ]
     },
     "execution_count": 19,
     "metadata": {},
     "output_type": "execute_result"
    }
   ],
   "source": [
    "# Slicing just successful and failed projects\n",
    "proj = proj[(proj['state'] == 'failed') | (proj['state'] == 'successful')]\n",
    "\n",
    "# Remove outlier usd_goal_real\n",
    "outlier_cost = 10000\n",
    "proj = proj[proj['usd_goal_real'] < outlier_cost]\n",
    "\n",
    "proj.head()"
   ]
  },
  {
   "cell_type": "code",
   "execution_count": null,
   "metadata": {},
   "outputs": [
    {
     "name": "stderr",
     "output_type": "stream",
     "text": [
      "/Users/mvanheukelom/anaconda3/envs/carnd-term1/lib/python3.5/site-packages/ipykernel_launcher.py:6: SettingWithCopyWarning: \n",
      "A value is trying to be set on a copy of a slice from a DataFrame\n",
      "\n",
      "See the caveats in the documentation: http://pandas.pydata.org/pandas-docs/stable/indexing.html#indexing-view-versus-copy\n",
      "  \n"
     ]
    }
   ],
   "source": [
    "### Determine the time duration\n",
    "\n",
    "for i in proj.index:\n",
    "    deadline = datetime.strptime(proj['deadline'][i], '%Y-%m-%d')\n",
    "    launched = datetime.strptime(proj['launched'][i], '%Y-%m-%d %X')\n",
    "    proj['deadline'][i] = (deadline - launched).total_seconds()/3600/24\n"
   ]
  },
  {
   "cell_type": "code",
   "execution_count": null,
   "metadata": {},
   "outputs": [],
   "source": [
    "data = proj[['state', 'main_category', 'country', 'usd_goal_real', 'deadline']]\n",
    "data.head()"
   ]
  },
  {
   "cell_type": "code",
   "execution_count": null,
   "metadata": {},
   "outputs": [],
   "source": [
    "# Modifing value of dependent variable from categorical to numerical\n",
    "data.loc[data['state'] == 'failed', 'state'] = 0\n",
    "data.loc[data['state'] == 'successful', 'state'] = 1\n",
    "\n",
    "# Scaling goal amount since it behaves differently in each category\n",
    "for cat in data['main_category'].unique():\n",
    "    scaler = StandardScaler()\n",
    "    new_values = scaler.fit_transform(data[data['main_category'] == cat][['usd_goal_real']])\n",
    "    data.loc[proj['main_category'] == cat, 'usd_goal_real'] = new_values.transpose()[0]\n",
    "    \n",
    "data.head()"
   ]
  },
  {
   "cell_type": "code",
   "execution_count": 34,
   "metadata": {},
   "outputs": [
    {
     "name": "stdout",
     "output_type": "stream",
     "text": [
      "(331675, 40)\n"
     ]
    }
   ],
   "source": [
    "data = pd.get_dummies(data)\n",
    "print(data.shape)"
   ]
  },
  {
   "cell_type": "code",
   "execution_count": 35,
   "metadata": {},
   "outputs": [
    {
     "name": "stdout",
     "output_type": "stream",
     "text": [
      "<class 'pandas.core.frame.DataFrame'>\n"
     ]
    }
   ],
   "source": []
  },
  {
   "cell_type": "code",
   "execution_count": null,
   "metadata": {},
   "outputs": [],
   "source": []
  }
 ],
 "metadata": {
  "kernelspec": {
   "display_name": "Python 3",
   "language": "python",
   "name": "python3"
  },
  "language_info": {
   "codemirror_mode": {
    "name": "ipython",
    "version": 3
   },
   "file_extension": ".py",
   "mimetype": "text/x-python",
   "name": "python",
   "nbconvert_exporter": "python",
   "pygments_lexer": "ipython3",
   "version": "3.5.2"
  },
  "widgets": {
   "state": {},
   "version": "1.1.2"
  }
 },
 "nbformat": 4,
 "nbformat_minor": 2
}
